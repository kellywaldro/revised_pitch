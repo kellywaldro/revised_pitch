{
 "cells": [
  {
   "attachments": {},
   "cell_type": "markdown",
   "metadata": {},
   "source": [
    "# Pitch Analysis\n",
    "\n",
    "Please submit a coherent, readable notebookthat walks Dhrumil and Aishi through the exploratory data analysis and regression analysis you've done in pursuit of your story.\n",
    "\n",
    "This notebook should be clean and focused:\n",
    "\n",
    "- move any code for data acquisition or scraping into it's own notebook with a name like `scraping.ipynb`\n",
    "- move any code for data cleaning and maniupualtion into it's own notebook with a name like `cleaning.ipynb`\n",
    "- you may even want to make a notebook called `scratchpad.ipynb` to keep your messy analysis, you can carefully move the relevant parts to `analysis.ipynb` and make sure it's written in such a way that Dhrumil and Aishi can follow your logic\n",
    "    - add text to guide a reader through this notebook, you may want to use [markdown formatting](https://www.markdownguide.org/cheat-sheet/) to help organize your thoguhts.\n",
    "- make sure `analysis.ipynb` runs (restart and run all cells) from top to bottom without errors\n"
   ]
  },
  {
   "cell_type": "markdown",
   "metadata": {
    "tags": []
   },
   "source": [
    "## Setup\n",
    "\n",
    "This section contains our standard notebook setup, including Python and R Imports. You can zoom right past this! \n"
   ]
  },
  {
   "cell_type": "code",
   "execution_count": 18,
   "metadata": {
    "tags": []
   },
   "outputs": [
    {
     "name": "stdout",
     "output_type": "stream",
     "text": [
      "The rpy2.ipython extension is already loaded. To reload it, use:\n",
      "  %reload_ext rpy2.ipython\n",
      "The autoreload extension is already loaded. To reload it, use:\n",
      "  %reload_ext autoreload\n"
     ]
    }
   ],
   "source": [
    "%load_ext rpy2.ipython\n",
    "%load_ext autoreload\n",
    "%autoreload 2\n",
    "\n",
    "%matplotlib inline  \n",
    "from matplotlib import rcParams\n",
    "rcParams['figure.figsize'] = (16, 100)\n",
    "\n",
    "import warnings\n",
    "from rpy2.rinterface import RRuntimeWarning\n",
    "warnings.filterwarnings(\"ignore\") # Ignore all warnings\n",
    "# warnings.filterwarnings(\"ignore\", category=RRuntimeWarning) # Show some warnings\n"
   ]
  },
  {
   "cell_type": "code",
   "execution_count": 19,
   "metadata": {
    "tags": []
   },
   "outputs": [
    {
     "data": {
      "application/javascript": "// Disable auto-scrolling\nIPython.OutputArea.prototype._should_scroll = function(lines) {\n    return false;\n}\n",
      "text/plain": [
       "<IPython.core.display.Javascript object>"
      ]
     },
     "metadata": {},
     "output_type": "display_data"
    }
   ],
   "source": [
    "%%javascript\n",
    "// Disable auto-scrolling\n",
    "IPython.OutputArea.prototype._should_scroll = function(lines) {\n",
    "    return false;\n",
    "}"
   ]
  },
  {
   "cell_type": "markdown",
   "metadata": {},
   "source": [
    "R imports"
   ]
  },
  {
   "cell_type": "code",
   "execution_count": 20,
   "metadata": {
    "tags": []
   },
   "outputs": [],
   "source": [
    "%%R\n",
    "\n",
    "# My commonly used R imports\n",
    "\n",
    "require('tidyverse')"
   ]
  },
  {
   "cell_type": "markdown",
   "metadata": {},
   "source": [
    "Python imports"
   ]
  },
  {
   "cell_type": "code",
   "execution_count": 21,
   "metadata": {
    "tags": []
   },
   "outputs": [],
   "source": [
    "# # installs any python packages in requirements.txt\n",
    "# !pip install -r requirements.txt"
   ]
  },
  {
   "cell_type": "code",
   "execution_count": 22,
   "metadata": {
    "tags": []
   },
   "outputs": [],
   "source": [
    "# Python imports for this analysis\n",
    "\n",
    "import pandas as pd\n",
    "import numpy as np\n",
    "import matplotlib.pyplot as plt\n",
    "from IPython.display import display, HTML\n",
    "\n",
    "import statsmodels.formula.api as smf\n",
    "from plotnine import *"
   ]
  },
  {
   "cell_type": "code",
   "execution_count": 23,
   "metadata": {},
   "outputs": [],
   "source": [
    "# ! pip install statsmodels\n",
    "\n",
    "# ! pip install plotnine"
   ]
  },
  {
   "attachments": {},
   "cell_type": "markdown",
   "metadata": {},
   "source": [
    "## Loading The Data\n",
    "\n",
    "_Load the cleaned data here. You're welcome to load multiple dataframes if that makes sense._\n",
    "- _What is each row? Make sure to explain if it's not obvious._\n",
    "- _Make sure to mention any caveats of the data we need to be aware of._\n",
    "- _Make mention of any methodological choices you made in `cleaning.ipynb` that you think are relevant._\n",
    "- _Display a small chunk of the data with something like `df.head()` or df.sample(5)`, so that we have an idea of what we're working with._\n"
   ]
  },
  {
   "cell_type": "code",
   "execution_count": 24,
   "metadata": {},
   "outputs": [],
   "source": [
    "# your code to load and display the data"
   ]
  },
  {
   "cell_type": "code",
   "execution_count": 25,
   "metadata": {},
   "outputs": [],
   "source": [
    "df = pd.read_csv('final_data.csv')"
   ]
  },
  {
   "cell_type": "code",
   "execution_count": 26,
   "metadata": {},
   "outputs": [
    {
     "data": {
      "text/html": [
       "<div>\n",
       "<style scoped>\n",
       "    .dataframe tbody tr th:only-of-type {\n",
       "        vertical-align: middle;\n",
       "    }\n",
       "\n",
       "    .dataframe tbody tr th {\n",
       "        vertical-align: top;\n",
       "    }\n",
       "\n",
       "    .dataframe thead th {\n",
       "        text-align: right;\n",
       "    }\n",
       "</style>\n",
       "<table border=\"1\" class=\"dataframe\">\n",
       "  <thead>\n",
       "    <tr style=\"text-align: right;\">\n",
       "      <th></th>\n",
       "      <th>tract</th>\n",
       "      <th>count</th>\n",
       "      <th>geoid</th>\n",
       "      <th>name</th>\n",
       "      <th>median_household_income</th>\n",
       "      <th>B19013001, Error</th>\n",
       "      <th>CTLabel</th>\n",
       "      <th>_merge</th>\n",
       "    </tr>\n",
       "  </thead>\n",
       "  <tbody>\n",
       "    <tr>\n",
       "      <th>0</th>\n",
       "      <td>16900</td>\n",
       "      <td>12.0</td>\n",
       "      <td>3.600502e+10</td>\n",
       "      <td>Census Tract 169, Bronx, NY</td>\n",
       "      <td>45273.0</td>\n",
       "      <td>7447.0</td>\n",
       "      <td>169.00</td>\n",
       "      <td>both</td>\n",
       "    </tr>\n",
       "    <tr>\n",
       "      <th>1</th>\n",
       "      <td>16900</td>\n",
       "      <td>12.0</td>\n",
       "      <td>3.604702e+10</td>\n",
       "      <td>Census Tract 169, Kings, NY</td>\n",
       "      <td>112419.0</td>\n",
       "      <td>13532.0</td>\n",
       "      <td>169.00</td>\n",
       "      <td>both</td>\n",
       "    </tr>\n",
       "    <tr>\n",
       "      <th>2</th>\n",
       "      <td>16900</td>\n",
       "      <td>12.0</td>\n",
       "      <td>3.606102e+10</td>\n",
       "      <td>Census Tract 169, New York, NY</td>\n",
       "      <td>153854.0</td>\n",
       "      <td>36359.0</td>\n",
       "      <td>169.00</td>\n",
       "      <td>both</td>\n",
       "    </tr>\n",
       "    <tr>\n",
       "      <th>3</th>\n",
       "      <td>16900</td>\n",
       "      <td>12.0</td>\n",
       "      <td>3.608102e+10</td>\n",
       "      <td>Census Tract 169, Queens, NY</td>\n",
       "      <td>77027.0</td>\n",
       "      <td>15493.0</td>\n",
       "      <td>169.00</td>\n",
       "      <td>both</td>\n",
       "    </tr>\n",
       "    <tr>\n",
       "      <th>4</th>\n",
       "      <td>7300</td>\n",
       "      <td>10.0</td>\n",
       "      <td>3.600501e+10</td>\n",
       "      <td>Census Tract 73, Bronx, NY</td>\n",
       "      <td>25619.0</td>\n",
       "      <td>6243.0</td>\n",
       "      <td>73.00</td>\n",
       "      <td>both</td>\n",
       "    </tr>\n",
       "    <tr>\n",
       "      <th>...</th>\n",
       "      <td>...</td>\n",
       "      <td>...</td>\n",
       "      <td>...</td>\n",
       "      <td>...</td>\n",
       "      <td>...</td>\n",
       "      <td>...</td>\n",
       "      <td>...</td>\n",
       "      <td>...</td>\n",
       "    </tr>\n",
       "    <tr>\n",
       "      <th>2191</th>\n",
       "      <td>29105</td>\n",
       "      <td>0.0</td>\n",
       "      <td>3.608503e+10</td>\n",
       "      <td>Census Tract 291.05, Richmond, NY</td>\n",
       "      <td>97279.0</td>\n",
       "      <td>19464.0</td>\n",
       "      <td>291.05</td>\n",
       "      <td>right_only</td>\n",
       "    </tr>\n",
       "    <tr>\n",
       "      <th>2192</th>\n",
       "      <td>29106</td>\n",
       "      <td>0.0</td>\n",
       "      <td>3.608503e+10</td>\n",
       "      <td>Census Tract 291.06, Richmond, NY</td>\n",
       "      <td>127671.0</td>\n",
       "      <td>25994.0</td>\n",
       "      <td>291.06</td>\n",
       "      <td>right_only</td>\n",
       "    </tr>\n",
       "    <tr>\n",
       "      <th>2193</th>\n",
       "      <td>30301</td>\n",
       "      <td>0.0</td>\n",
       "      <td>3.608503e+10</td>\n",
       "      <td>Census Tract 303.01, Richmond, NY</td>\n",
       "      <td>95913.0</td>\n",
       "      <td>6123.0</td>\n",
       "      <td>303.01</td>\n",
       "      <td>right_only</td>\n",
       "    </tr>\n",
       "    <tr>\n",
       "      <th>2194</th>\n",
       "      <td>30302</td>\n",
       "      <td>0.0</td>\n",
       "      <td>3.608503e+10</td>\n",
       "      <td>Census Tract 303.02, Richmond, NY</td>\n",
       "      <td>85842.0</td>\n",
       "      <td>18154.0</td>\n",
       "      <td>303.02</td>\n",
       "      <td>right_only</td>\n",
       "    </tr>\n",
       "    <tr>\n",
       "      <th>2195</th>\n",
       "      <td>31902</td>\n",
       "      <td>0.0</td>\n",
       "      <td>3.608503e+10</td>\n",
       "      <td>Census Tract 319.02, Richmond, NY</td>\n",
       "      <td>76066.0</td>\n",
       "      <td>35257.0</td>\n",
       "      <td>319.02</td>\n",
       "      <td>right_only</td>\n",
       "    </tr>\n",
       "  </tbody>\n",
       "</table>\n",
       "<p>2196 rows × 8 columns</p>\n",
       "</div>"
      ],
      "text/plain": [
       "      tract  count         geoid                               name  \\\n",
       "0     16900   12.0  3.600502e+10        Census Tract 169, Bronx, NY   \n",
       "1     16900   12.0  3.604702e+10        Census Tract 169, Kings, NY   \n",
       "2     16900   12.0  3.606102e+10     Census Tract 169, New York, NY   \n",
       "3     16900   12.0  3.608102e+10       Census Tract 169, Queens, NY   \n",
       "4      7300   10.0  3.600501e+10         Census Tract 73, Bronx, NY   \n",
       "...     ...    ...           ...                                ...   \n",
       "2191  29105    0.0  3.608503e+10  Census Tract 291.05, Richmond, NY   \n",
       "2192  29106    0.0  3.608503e+10  Census Tract 291.06, Richmond, NY   \n",
       "2193  30301    0.0  3.608503e+10  Census Tract 303.01, Richmond, NY   \n",
       "2194  30302    0.0  3.608503e+10  Census Tract 303.02, Richmond, NY   \n",
       "2195  31902    0.0  3.608503e+10  Census Tract 319.02, Richmond, NY   \n",
       "\n",
       "      median_household_income  B19013001, Error  CTLabel      _merge  \n",
       "0                     45273.0            7447.0   169.00        both  \n",
       "1                    112419.0           13532.0   169.00        both  \n",
       "2                    153854.0           36359.0   169.00        both  \n",
       "3                     77027.0           15493.0   169.00        both  \n",
       "4                     25619.0            6243.0    73.00        both  \n",
       "...                       ...               ...      ...         ...  \n",
       "2191                  97279.0           19464.0   291.05  right_only  \n",
       "2192                 127671.0           25994.0   291.06  right_only  \n",
       "2193                  95913.0            6123.0   303.01  right_only  \n",
       "2194                  85842.0           18154.0   303.02  right_only  \n",
       "2195                  76066.0           35257.0   319.02  right_only  \n",
       "\n",
       "[2196 rows x 8 columns]"
      ]
     },
     "execution_count": 26,
     "metadata": {},
     "output_type": "execute_result"
    }
   ],
   "source": [
    "df"
   ]
  },
  {
   "attachments": {},
   "cell_type": "markdown",
   "metadata": {},
   "source": [
    "## Exploratory Analysis\n",
    "\n",
    "_In the cells below, guide us through your exploratory data analysis. You may include charts and regressions as you see fit._\n",
    "\n",
    "\n",
    "_You may want to use [markdown formatting](https://www.markdownguide.org/cheat-sheet/) to help organize your thoguhts. You can make a separate `scratchpad.ipynb` to store analysis that you were trying out but isn't ultimately relevant to your pitch. You don't need to rewrite your pitch here, but please make sure to include enough text for Dhrumil and Aishi to be able to follow your logic._"
   ]
  },
  {
   "cell_type": "code",
   "execution_count": 27,
   "metadata": {},
   "outputs": [
    {
     "name": "stdout",
     "output_type": "stream",
     "text": [
      "\n",
      "Call:\n",
      "lm(formula = count ~ median_household_income, data = df)\n",
      "\n",
      "Residuals:\n",
      "    Min      1Q  Median      3Q     Max \n",
      "-1.7340 -0.6583 -0.4998 -0.2877 11.6126 \n",
      "\n",
      "Coefficients:\n",
      "                         Estimate Std. Error t value Pr(>|t|)    \n",
      "(Intercept)             8.960e-02  7.531e-02    1.19    0.234    \n",
      "median_household_income 6.578e-06  8.587e-07    7.66 2.76e-14 ***\n",
      "---\n",
      "Signif. codes:  0 ‘***’ 0.001 ‘**’ 0.01 ‘*’ 0.05 ‘.’ 0.1 ‘ ’ 1\n",
      "\n",
      "Residual standard error: 1.556 on 2194 degrees of freedom\n",
      "Multiple R-squared:  0.02605,\tAdjusted R-squared:  0.02561 \n",
      "F-statistic: 58.68 on 1 and 2194 DF,  p-value: 2.761e-14\n",
      "\n"
     ]
    }
   ],
   "source": [
    "%%R -i df \n",
    "\n",
    "# runn a  regression\n",
    "\n",
    "model = lm(`count` ~ `median_household_income`, data = df)\n",
    "\n",
    "summary(model)"
   ]
  },
  {
   "cell_type": "code",
   "execution_count": 28,
   "metadata": {},
   "outputs": [
    {
     "name": "stdout",
     "output_type": "stream",
     "text": [
      "`geom_smooth()` using formula = 'y ~ x'\n"
     ]
    },
    {
     "data": {
      "image/png": "[encoded data removed]"
     },
     "metadata": {},
     "output_type": "display_data"
    }
   ],
   "source": [
    "%%R  \n",
    "\n",
    "# plot the data\n",
    "\n",
    "# label  the  dots  \n",
    "\n",
    "# ggplot(df, aes(x = `median_household_income`, y = `count`)) + geom_point() + geom_smooth(method = 'lm') + geom_text(aes(label = `tract`), vjust = -1, hjust = 1, size = 3)\n",
    "\n",
    "ggplot(df, aes(x = `median_household_income`, y = `count`)) + geom_point() + geom_smooth(method = 'lm')\n"
   ]
  },
  {
   "cell_type": "code",
   "execution_count": 29,
   "metadata": {},
   "outputs": [],
   "source": [
    "# save df to csv\n",
    "\n",
    "df.to_csv('edited_complaints.csv', index = False)"
   ]
  }
 ],
 "metadata": {
  "kernelspec": {
   "display_name": "Python 3 (ipykernel)",
   "language": "python",
   "name": "python3"
  },
  "language_info": {
   "codemirror_mode": {
    "name": "ipython",
    "version": 3
   },
   "file_extension": ".py",
   "mimetype": "text/x-python",
   "name": "python",
   "nbconvert_exporter": "python",
   "pygments_lexer": "ipython3",
   "version": "3.11.0rc2"
  }
 },
 "nbformat": 4,
 "nbformat_minor": 4
}
