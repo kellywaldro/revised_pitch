{
 "cells": [
  {
   "cell_type": "markdown",
   "metadata": {},
   "source": [
    "# Pitch Analysis\n",
    "\n",
    "Please submit a coherent, readable notebookthat walks Dhrumil and Aishi through the exploratory data analysis and regression analysis you've done in pursuit of your story.\n",
    "\n",
    "This notebook should be clean and focused:\n",
    "\n",
    "- move any code for data acquisition or scraping into it's own notebook with a name like `scraping.ipynb`\n",
    "- move any code for data cleaning and maniupualtion into it's own notebook with a name like `cleaning.ipynb`\n",
    "- you may even want to make a notebook called `scratchpad.ipynb` to keep your messy analysis, you can carefully move the relevant parts to `analysis.ipynb` and make sure it's written in such a way that Dhrumil and Aishi can follow your logic\n",
    "    - add text to guide a reader through this notebook, you may want to use [markdown formatting](https://www.markdownguide.org/cheat-sheet/) to help organize your thoguhts.\n",
    "- make sure `analysis.ipynb` runs (restart and run all cells) from top to bottom without errors\n"
   ]
  },
  {
   "cell_type": "markdown",
   "metadata": {
    "tags": []
   },
   "source": [
    "## Setup\n",
    "\n",
    "This section contains our standard notebook setup, including Python and R Imports. You can zoom right past this! \n"
   ]
  },
  {
   "cell_type": "code",
   "execution_count": 1,
   "metadata": {
    "tags": []
   },
   "outputs": [],
   "source": [
    "%load_ext rpy2.ipython\n",
    "%load_ext autoreload\n",
    "%autoreload 2\n",
    "\n",
    "%matplotlib inline  \n",
    "from matplotlib import rcParams\n",
    "rcParams['figure.figsize'] = (16, 100)\n",
    "\n",
    "import warnings\n",
    "from rpy2.rinterface import RRuntimeWarning\n",
    "warnings.filterwarnings(\"ignore\") # Ignore all warnings\n",
    "# warnings.filterwarnings(\"ignore\", category=RRuntimeWarning) # Show some warnings\n"
   ]
  },
  {
   "cell_type": "code",
   "execution_count": 2,
   "metadata": {
    "tags": []
   },
   "outputs": [
    {
     "data": {
      "application/javascript": [
       "// Disable auto-scrolling\n",
       "IPython.OutputArea.prototype._should_scroll = function(lines) {\n",
       "    return false;\n",
       "}\n"
      ],
      "text/plain": [
       "<IPython.core.display.Javascript object>"
      ]
     },
     "metadata": {},
     "output_type": "display_data"
    }
   ],
   "source": [
    "%%javascript\n",
    "// Disable auto-scrolling\n",
    "IPython.OutputArea.prototype._should_scroll = function(lines) {\n",
    "    return false;\n",
    "}"
   ]
  },
  {
   "cell_type": "markdown",
   "metadata": {},
   "source": [
    "R imports"
   ]
  },
  {
   "cell_type": "code",
   "execution_count": 3,
   "metadata": {
    "tags": []
   },
   "outputs": [
    {
     "name": "stderr",
     "output_type": "stream",
     "text": [
      "R[write to console]: Loading required package: tidyverse\n",
      "\n"
     ]
    },
    {
     "name": "stdout",
     "output_type": "stream",
     "text": [
      "── Attaching core tidyverse packages ──────────────────────── tidyverse 2.0.0 ──\n",
      "✔ dplyr     1.1.2     ✔ readr     2.1.4\n",
      "✔ forcats   1.0.0     ✔ stringr   1.5.0\n",
      "✔ ggplot2   3.4.2     ✔ tibble    3.2.1\n",
      "✔ lubridate 1.9.2     ✔ tidyr     1.3.0\n",
      "✔ purrr     1.0.1     \n",
      "── Conflicts ────────────────────────────────────────── tidyverse_conflicts() ──\n",
      "✖ dplyr::filter() masks stats::filter()\n",
      "✖ dplyr::lag()    masks stats::lag()\n",
      "ℹ Use the conflicted package (<http://conflicted.r-lib.org/>) to force all conflicts to become errors\n"
     ]
    }
   ],
   "source": [
    "%%R\n",
    "\n",
    "# My commonly used R imports\n",
    "\n",
    "require('tidyverse')"
   ]
  },
  {
   "cell_type": "markdown",
   "metadata": {},
   "source": [
    "Python imports"
   ]
  },
  {
   "cell_type": "code",
   "execution_count": 4,
   "metadata": {
    "tags": []
   },
   "outputs": [],
   "source": [
    "# # installs any python packages in requirements.txt\n",
    "# !pip install -r requirements.txt"
   ]
  },
  {
   "cell_type": "code",
   "execution_count": 5,
   "metadata": {
    "tags": []
   },
   "outputs": [],
   "source": [
    "# Python imports for this analysis\n",
    "\n",
    "import pandas as pd\n",
    "import numpy as np\n",
    "import matplotlib.pyplot as plt\n",
    "from IPython.display import display, HTML\n",
    "\n",
    "import statsmodels.formula.api as smf\n",
    "from plotnine import *"
   ]
  },
  {
   "cell_type": "code",
   "execution_count": 6,
   "metadata": {
    "tags": []
   },
   "outputs": [],
   "source": [
    "# ! pip install statsmodels\n",
    "\n",
    "# ! pip install plotnine"
   ]
  },
  {
   "cell_type": "markdown",
   "metadata": {},
   "source": [
    "## Loading The Data\n",
    "\n",
    "_Load the cleaned data here. You're welcome to load multiple dataframes if that makes sense._\n",
    "- _What is each row? Make sure to explain if it's not obvious._\n",
    "- _Make sure to mention any caveats of the data we need to be aware of._\n",
    "- _Make mention of any methodological choices you made in `cleaning.ipynb` that you think are relevant._\n",
    "- _Display a small chunk of the data with something like `df.head()` or df.sample(5)`, so that we have an idea of what we're working with._\n"
   ]
  },
  {
   "cell_type": "code",
   "execution_count": 7,
   "metadata": {
    "tags": []
   },
   "outputs": [],
   "source": [
    "# your code to load and display the data"
   ]
  },
  {
   "cell_type": "code",
   "execution_count": 8,
   "metadata": {},
   "outputs": [
    {
     "data": {
      "text/html": [
       "<div>\n",
       "<style scoped>\n",
       "    .dataframe tbody tr th:only-of-type {\n",
       "        vertical-align: middle;\n",
       "    }\n",
       "\n",
       "    .dataframe tbody tr th {\n",
       "        vertical-align: top;\n",
       "    }\n",
       "\n",
       "    .dataframe thead th {\n",
       "        text-align: right;\n",
       "    }\n",
       "</style>\n",
       "<table border=\"1\" class=\"dataframe\">\n",
       "  <thead>\n",
       "    <tr style=\"text-align: right;\">\n",
       "      <th></th>\n",
       "      <th>geoid</th>\n",
       "      <th>count</th>\n",
       "      <th>name</th>\n",
       "      <th>median_household_income</th>\n",
       "      <th>B19013001, Error</th>\n",
       "      <th>COUNTY</th>\n",
       "      <th>CTLabel</th>\n",
       "      <th>TRACT</th>\n",
       "      <th>_merge</th>\n",
       "      <th>has_open_streets</th>\n",
       "    </tr>\n",
       "  </thead>\n",
       "  <tbody>\n",
       "    <tr>\n",
       "      <th>1</th>\n",
       "      <td>36081016900</td>\n",
       "      <td>11</td>\n",
       "      <td>Census Tract 169, Queens, NY</td>\n",
       "      <td>7.7027</td>\n",
       "      <td>15493.0</td>\n",
       "      <td>81.0</td>\n",
       "      <td>169.00</td>\n",
       "      <td>16900.0</td>\n",
       "      <td>both</td>\n",
       "      <td>1</td>\n",
       "    </tr>\n",
       "    <tr>\n",
       "      <th>2</th>\n",
       "      <td>36061007300</td>\n",
       "      <td>10</td>\n",
       "      <td>Census Tract 73, New York, NY</td>\n",
       "      <td>14.2409</td>\n",
       "      <td>42874.0</td>\n",
       "      <td>61.0</td>\n",
       "      <td>73.00</td>\n",
       "      <td>7300.0</td>\n",
       "      <td>both</td>\n",
       "      <td>1</td>\n",
       "    </tr>\n",
       "    <tr>\n",
       "      <th>3</th>\n",
       "      <td>36081101002</td>\n",
       "      <td>9</td>\n",
       "      <td>Census Tract 1010.02, Queens, NY</td>\n",
       "      <td>3.8395</td>\n",
       "      <td>32774.0</td>\n",
       "      <td>81.0</td>\n",
       "      <td>1010.02</td>\n",
       "      <td>101002.0</td>\n",
       "      <td>both</td>\n",
       "      <td>1</td>\n",
       "    </tr>\n",
       "    <tr>\n",
       "      <th>4</th>\n",
       "      <td>36081029100</td>\n",
       "      <td>8</td>\n",
       "      <td>Census Tract 291, Queens, NY</td>\n",
       "      <td>5.8226</td>\n",
       "      <td>5107.0</td>\n",
       "      <td>81.0</td>\n",
       "      <td>291.00</td>\n",
       "      <td>29100.0</td>\n",
       "      <td>both</td>\n",
       "      <td>1</td>\n",
       "    </tr>\n",
       "    <tr>\n",
       "      <th>5</th>\n",
       "      <td>36047055500</td>\n",
       "      <td>7</td>\n",
       "      <td>Census Tract 555, Kings, NY</td>\n",
       "      <td>17.4028</td>\n",
       "      <td>15786.0</td>\n",
       "      <td>47.0</td>\n",
       "      <td>555.00</td>\n",
       "      <td>55500.0</td>\n",
       "      <td>both</td>\n",
       "      <td>1</td>\n",
       "    </tr>\n",
       "    <tr>\n",
       "      <th>...</th>\n",
       "      <td>...</td>\n",
       "      <td>...</td>\n",
       "      <td>...</td>\n",
       "      <td>...</td>\n",
       "      <td>...</td>\n",
       "      <td>...</td>\n",
       "      <td>...</td>\n",
       "      <td>...</td>\n",
       "      <td>...</td>\n",
       "      <td>...</td>\n",
       "    </tr>\n",
       "    <tr>\n",
       "      <th>2199</th>\n",
       "      <td>36085029106</td>\n",
       "      <td>0</td>\n",
       "      <td>Census Tract 291.06, Richmond, NY</td>\n",
       "      <td>12.7671</td>\n",
       "      <td>25994.0</td>\n",
       "      <td>85.0</td>\n",
       "      <td>291.06</td>\n",
       "      <td>29106.0</td>\n",
       "      <td>right_only</td>\n",
       "      <td>0</td>\n",
       "    </tr>\n",
       "    <tr>\n",
       "      <th>2200</th>\n",
       "      <td>36085030301</td>\n",
       "      <td>0</td>\n",
       "      <td>Census Tract 303.01, Richmond, NY</td>\n",
       "      <td>9.5913</td>\n",
       "      <td>6123.0</td>\n",
       "      <td>85.0</td>\n",
       "      <td>303.01</td>\n",
       "      <td>30301.0</td>\n",
       "      <td>right_only</td>\n",
       "      <td>0</td>\n",
       "    </tr>\n",
       "    <tr>\n",
       "      <th>2201</th>\n",
       "      <td>36085030302</td>\n",
       "      <td>0</td>\n",
       "      <td>Census Tract 303.02, Richmond, NY</td>\n",
       "      <td>8.5842</td>\n",
       "      <td>18154.0</td>\n",
       "      <td>85.0</td>\n",
       "      <td>303.02</td>\n",
       "      <td>30302.0</td>\n",
       "      <td>right_only</td>\n",
       "      <td>0</td>\n",
       "    </tr>\n",
       "    <tr>\n",
       "      <th>2202</th>\n",
       "      <td>36085031902</td>\n",
       "      <td>0</td>\n",
       "      <td>Census Tract 319.02, Richmond, NY</td>\n",
       "      <td>7.6066</td>\n",
       "      <td>35257.0</td>\n",
       "      <td>85.0</td>\n",
       "      <td>319.02</td>\n",
       "      <td>31902.0</td>\n",
       "      <td>right_only</td>\n",
       "      <td>0</td>\n",
       "    </tr>\n",
       "    <tr>\n",
       "      <th>2203</th>\n",
       "      <td>36085032300</td>\n",
       "      <td>0</td>\n",
       "      <td>Census Tract 323, Richmond, NY</td>\n",
       "      <td>8.6471</td>\n",
       "      <td>25095.0</td>\n",
       "      <td>85.0</td>\n",
       "      <td>323.00</td>\n",
       "      <td>32300.0</td>\n",
       "      <td>right_only</td>\n",
       "      <td>0</td>\n",
       "    </tr>\n",
       "  </tbody>\n",
       "</table>\n",
       "<p>2196 rows × 10 columns</p>\n",
       "</div>"
      ],
      "text/plain": [
       "            geoid  count                               name   \n",
       "1     36081016900     11       Census Tract 169, Queens, NY  \\\n",
       "2     36061007300     10      Census Tract 73, New York, NY   \n",
       "3     36081101002      9   Census Tract 1010.02, Queens, NY   \n",
       "4     36081029100      8       Census Tract 291, Queens, NY   \n",
       "5     36047055500      7        Census Tract 555, Kings, NY   \n",
       "...           ...    ...                                ...   \n",
       "2199  36085029106      0  Census Tract 291.06, Richmond, NY   \n",
       "2200  36085030301      0  Census Tract 303.01, Richmond, NY   \n",
       "2201  36085030302      0  Census Tract 303.02, Richmond, NY   \n",
       "2202  36085031902      0  Census Tract 319.02, Richmond, NY   \n",
       "2203  36085032300      0     Census Tract 323, Richmond, NY   \n",
       "\n",
       "      median_household_income  B19013001, Error  COUNTY  CTLabel     TRACT   \n",
       "1                      7.7027           15493.0    81.0   169.00   16900.0  \\\n",
       "2                     14.2409           42874.0    61.0    73.00    7300.0   \n",
       "3                      3.8395           32774.0    81.0  1010.02  101002.0   \n",
       "4                      5.8226            5107.0    81.0   291.00   29100.0   \n",
       "5                     17.4028           15786.0    47.0   555.00   55500.0   \n",
       "...                       ...               ...     ...      ...       ...   \n",
       "2199                  12.7671           25994.0    85.0   291.06   29106.0   \n",
       "2200                   9.5913            6123.0    85.0   303.01   30301.0   \n",
       "2201                   8.5842           18154.0    85.0   303.02   30302.0   \n",
       "2202                   7.6066           35257.0    85.0   319.02   31902.0   \n",
       "2203                   8.6471           25095.0    85.0   323.00   32300.0   \n",
       "\n",
       "          _merge  has_open_streets  \n",
       "1           both                 1  \n",
       "2           both                 1  \n",
       "3           both                 1  \n",
       "4           both                 1  \n",
       "5           both                 1  \n",
       "...          ...               ...  \n",
       "2199  right_only                 0  \n",
       "2200  right_only                 0  \n",
       "2201  right_only                 0  \n",
       "2202  right_only                 0  \n",
       "2203  right_only                 0  \n",
       "\n",
       "[2196 rows x 10 columns]"
      ]
     },
     "execution_count": 8,
     "metadata": {},
     "output_type": "execute_result"
    }
   ],
   "source": [
    "df = pd.read_csv('final_data.csv')\n",
    "\n",
    "# fill 0 counts\n",
    "df['count'] = df['count'].fillna(0).astype(int)\n",
    "\n",
    "# make t/f column\n",
    "df['has_open_streets'] = (df['count'] > 0).astype(int)\n",
    "\n",
    "# median household income in 10s of thousands\n",
    "df['median_household_income'] = df['median_household_income']/10000\n",
    "\n",
    "# remove places without median household income \n",
    "# TODO - what plaecs did I delete????\n",
    "df = df.query(\"median_household_income.notna()\")\n",
    "\n",
    "df"
   ]
  },
  {
   "cell_type": "markdown",
   "metadata": {},
   "source": [
    "# Logistic Regression"
   ]
  },
  {
   "cell_type": "code",
   "execution_count": 9,
   "metadata": {
    "tags": []
   },
   "outputs": [
    {
     "name": "stdout",
     "output_type": "stream",
     "text": [
      "\n",
      "Call:\n",
      "glm(formula = has_open_streets ~ median_household_income + factor(COUNTY), \n",
      "    family = \"binomial\", data = df)\n",
      "\n",
      "Deviance Residuals: \n",
      "    Min       1Q   Median       3Q      Max  \n",
      "-1.3731  -0.4568  -0.3382  -0.2874   2.7128  \n",
      "\n",
      "Coefficients:\n",
      "                        Estimate Std. Error z value Pr(>|z|)    \n",
      "(Intercept)             -3.46944    0.26623 -13.032  < 2e-16 ***\n",
      "median_household_income  0.10004    0.01677   5.966 2.43e-09 ***\n",
      "factor(COUNTY)47         0.58459    0.27950   2.092   0.0365 *  \n",
      "factor(COUNTY)61         1.41754    0.30294   4.679 2.88e-06 ***\n",
      "factor(COUNTY)81        -0.39970    0.31431  -1.272   0.2035    \n",
      "factor(COUNTY)85        -0.59599    0.52622  -1.133   0.2574    \n",
      "---\n",
      "Signif. codes:  0 ‘***’ 0.001 ‘**’ 0.01 ‘*’ 0.05 ‘.’ 0.1 ‘ ’ 1\n",
      "\n",
      "(Dispersion parameter for binomial family taken to be 1)\n",
      "\n",
      "    Null deviance: 1451.3  on 2195  degrees of freedom\n",
      "Residual deviance: 1288.2  on 2190  degrees of freedom\n",
      "AIC: 1300.2\n",
      "\n",
      "Number of Fisher Scoring iterations: 5\n",
      "\n"
     ]
    }
   ],
   "source": [
    "%%R -i df\n",
    "\n",
    "# logistic regression in R\n",
    "logistic <- glm(has_open_streets~median_household_income + factor(COUNTY), family='binomial', data=df)\n",
    "summary(logistic)"
   ]
  },
  {
   "cell_type": "code",
   "execution_count": 10,
   "metadata": {
    "tags": []
   },
   "outputs": [
    {
     "name": "stderr",
     "output_type": "stream",
     "text": [
      "R[write to console]: Loading required package: DescTools\n",
      "\n"
     ]
    },
    {
     "name": "stdout",
     "output_type": "stream",
     "text": [
      "McFadden \n",
      "0.112385 \n"
     ]
    }
   ],
   "source": [
    "%%R \n",
    "\n",
    "require('DescTools')\n",
    "PseudoR2(logistic)\n"
   ]
  },
  {
   "cell_type": "code",
   "execution_count": 11,
   "metadata": {
    "tags": []
   },
   "outputs": [
    {
     "name": "stdout",
     "output_type": "stream",
     "text": [
      "            (Intercept) median_household_income        factor(COUNTY)47 \n",
      "             0.03113437              1.10521600              1.79425698 \n",
      "       factor(COUNTY)61        factor(COUNTY)81        factor(COUNTY)85 \n",
      "             4.12694110              0.67052445              0.55101441 \n"
     ]
    }
   ],
   "source": [
    "%%R\n",
    "\n",
    "exp(coef(logistic))"
   ]
  },
  {
   "cell_type": "code",
   "execution_count": 12,
   "metadata": {
    "tags": []
   },
   "outputs": [],
   "source": [
    "%%R -o df\n",
    "\n",
    "df <- df %>% mutate(\n",
    "    prediction_logodds = predict(logistic),\n",
    "    prediction_odds = exp(predict(logistic)),\n",
    "    prediction_pct = prediction_odds / (1 + prediction_odds)\n",
    ")"
   ]
  },
  {
   "cell_type": "code",
   "execution_count": 13,
   "metadata": {
    "tags": []
   },
   "outputs": [
    {
     "data": {
      "text/html": [
       "<div>\n",
       "<style scoped>\n",
       "    .dataframe tbody tr th:only-of-type {\n",
       "        vertical-align: middle;\n",
       "    }\n",
       "\n",
       "    .dataframe tbody tr th {\n",
       "        vertical-align: top;\n",
       "    }\n",
       "\n",
       "    .dataframe thead th {\n",
       "        text-align: right;\n",
       "    }\n",
       "</style>\n",
       "<table border=\"1\" class=\"dataframe\">\n",
       "  <thead>\n",
       "    <tr style=\"text-align: right;\">\n",
       "      <th></th>\n",
       "      <th>geoid</th>\n",
       "      <th>count</th>\n",
       "      <th>name</th>\n",
       "      <th>median_household_income</th>\n",
       "      <th>B19013001, Error</th>\n",
       "      <th>COUNTY</th>\n",
       "      <th>CTLabel</th>\n",
       "      <th>TRACT</th>\n",
       "      <th>_merge</th>\n",
       "      <th>has_open_streets</th>\n",
       "      <th>prediction_logodds</th>\n",
       "      <th>prediction_odds</th>\n",
       "      <th>prediction_pct</th>\n",
       "    </tr>\n",
       "  </thead>\n",
       "  <tbody>\n",
       "    <tr>\n",
       "      <th>2106</th>\n",
       "      <td>36085004003</td>\n",
       "      <td>0</td>\n",
       "      <td>Census Tract 40.03, Richmond, NY</td>\n",
       "      <td>1.3855</td>\n",
       "      <td>13124.0</td>\n",
       "      <td>85.0</td>\n",
       "      <td>40.03</td>\n",
       "      <td>4003.0</td>\n",
       "      <td>right_only</td>\n",
       "      <td>0</td>\n",
       "      <td>-3.926831</td>\n",
       "      <td>0.019706</td>\n",
       "      <td>0.019325</td>\n",
       "    </tr>\n",
       "    <tr>\n",
       "      <th>2137</th>\n",
       "      <td>36085013301</td>\n",
       "      <td>0</td>\n",
       "      <td>Census Tract 133.01, Richmond, NY</td>\n",
       "      <td>1.6250</td>\n",
       "      <td>11363.0</td>\n",
       "      <td>85.0</td>\n",
       "      <td>133.01</td>\n",
       "      <td>13301.0</td>\n",
       "      <td>right_only</td>\n",
       "      <td>0</td>\n",
       "      <td>-3.902871</td>\n",
       "      <td>0.020184</td>\n",
       "      <td>0.019785</td>\n",
       "    </tr>\n",
       "    <tr>\n",
       "      <th>2174</th>\n",
       "      <td>36085020702</td>\n",
       "      <td>0</td>\n",
       "      <td>Census Tract 207.02, Richmond, NY</td>\n",
       "      <td>2.8523</td>\n",
       "      <td>25827.0</td>\n",
       "      <td>85.0</td>\n",
       "      <td>207.02</td>\n",
       "      <td>20702.0</td>\n",
       "      <td>right_only</td>\n",
       "      <td>0</td>\n",
       "      <td>-3.780091</td>\n",
       "      <td>0.022821</td>\n",
       "      <td>0.022311</td>\n",
       "    </tr>\n",
       "    <tr>\n",
       "      <th>2101</th>\n",
       "      <td>36085002700</td>\n",
       "      <td>0</td>\n",
       "      <td>Census Tract 27, Richmond, NY</td>\n",
       "      <td>3.0188</td>\n",
       "      <td>14585.0</td>\n",
       "      <td>85.0</td>\n",
       "      <td>27.00</td>\n",
       "      <td>2700.0</td>\n",
       "      <td>right_only</td>\n",
       "      <td>0</td>\n",
       "      <td>-3.763434</td>\n",
       "      <td>0.023204</td>\n",
       "      <td>0.022678</td>\n",
       "    </tr>\n",
       "    <tr>\n",
       "      <th>1511</th>\n",
       "      <td>36081008700</td>\n",
       "      <td>0</td>\n",
       "      <td>Census Tract 87, Queens, NY</td>\n",
       "      <td>1.7981</td>\n",
       "      <td>12283.0</td>\n",
       "      <td>81.0</td>\n",
       "      <td>87.00</td>\n",
       "      <td>8700.0</td>\n",
       "      <td>right_only</td>\n",
       "      <td>0</td>\n",
       "      <td>-3.689255</td>\n",
       "      <td>0.024991</td>\n",
       "      <td>0.024381</td>\n",
       "    </tr>\n",
       "    <tr>\n",
       "      <th>...</th>\n",
       "      <td>...</td>\n",
       "      <td>...</td>\n",
       "      <td>...</td>\n",
       "      <td>...</td>\n",
       "      <td>...</td>\n",
       "      <td>...</td>\n",
       "      <td>...</td>\n",
       "      <td>...</td>\n",
       "      <td>...</td>\n",
       "      <td>...</td>\n",
       "      <td>...</td>\n",
       "      <td>...</td>\n",
       "      <td>...</td>\n",
       "    </tr>\n",
       "    <tr>\n",
       "      <th>202</th>\n",
       "      <td>36061003300</td>\n",
       "      <td>1</td>\n",
       "      <td>Census Tract 33, New York, NY</td>\n",
       "      <td>25.0001</td>\n",
       "      <td>NaN</td>\n",
       "      <td>61.0</td>\n",
       "      <td>33.00</td>\n",
       "      <td>3300.0</td>\n",
       "      <td>both</td>\n",
       "      <td>1</td>\n",
       "      <td>0.449123</td>\n",
       "      <td>1.566938</td>\n",
       "      <td>0.610431</td>\n",
       "    </tr>\n",
       "    <tr>\n",
       "      <th>112</th>\n",
       "      <td>36061015002</td>\n",
       "      <td>2</td>\n",
       "      <td>Census Tract 150.02, New York, NY</td>\n",
       "      <td>25.0001</td>\n",
       "      <td>NaN</td>\n",
       "      <td>61.0</td>\n",
       "      <td>150.02</td>\n",
       "      <td>15002.0</td>\n",
       "      <td>both</td>\n",
       "      <td>1</td>\n",
       "      <td>0.449123</td>\n",
       "      <td>1.566938</td>\n",
       "      <td>0.610431</td>\n",
       "    </tr>\n",
       "    <tr>\n",
       "      <th>1288</th>\n",
       "      <td>36061009901</td>\n",
       "      <td>0</td>\n",
       "      <td>Census Tract 99.01, New York, NY</td>\n",
       "      <td>25.0001</td>\n",
       "      <td>NaN</td>\n",
       "      <td>61.0</td>\n",
       "      <td>99.01</td>\n",
       "      <td>9901.0</td>\n",
       "      <td>right_only</td>\n",
       "      <td>0</td>\n",
       "      <td>0.449123</td>\n",
       "      <td>1.566938</td>\n",
       "      <td>0.610431</td>\n",
       "    </tr>\n",
       "    <tr>\n",
       "      <th>1306</th>\n",
       "      <td>36061011401</td>\n",
       "      <td>0</td>\n",
       "      <td>Census Tract 114.01, New York, NY</td>\n",
       "      <td>25.0001</td>\n",
       "      <td>NaN</td>\n",
       "      <td>61.0</td>\n",
       "      <td>114.01</td>\n",
       "      <td>11401.0</td>\n",
       "      <td>right_only</td>\n",
       "      <td>0</td>\n",
       "      <td>0.449123</td>\n",
       "      <td>1.566938</td>\n",
       "      <td>0.610431</td>\n",
       "    </tr>\n",
       "    <tr>\n",
       "      <th>21</th>\n",
       "      <td>36061016001</td>\n",
       "      <td>5</td>\n",
       "      <td>Census Tract 160.01, New York, NY</td>\n",
       "      <td>25.0001</td>\n",
       "      <td>NaN</td>\n",
       "      <td>61.0</td>\n",
       "      <td>160.01</td>\n",
       "      <td>16001.0</td>\n",
       "      <td>both</td>\n",
       "      <td>1</td>\n",
       "      <td>0.449123</td>\n",
       "      <td>1.566938</td>\n",
       "      <td>0.610431</td>\n",
       "    </tr>\n",
       "  </tbody>\n",
       "</table>\n",
       "<p>2196 rows × 13 columns</p>\n",
       "</div>"
      ],
      "text/plain": [
       "            geoid  count                               name   \n",
       "2106  36085004003      0   Census Tract 40.03, Richmond, NY  \\\n",
       "2137  36085013301      0  Census Tract 133.01, Richmond, NY   \n",
       "2174  36085020702      0  Census Tract 207.02, Richmond, NY   \n",
       "2101  36085002700      0      Census Tract 27, Richmond, NY   \n",
       "1511  36081008700      0        Census Tract 87, Queens, NY   \n",
       "...           ...    ...                                ...   \n",
       "202   36061003300      1      Census Tract 33, New York, NY   \n",
       "112   36061015002      2  Census Tract 150.02, New York, NY   \n",
       "1288  36061009901      0   Census Tract 99.01, New York, NY   \n",
       "1306  36061011401      0  Census Tract 114.01, New York, NY   \n",
       "21    36061016001      5  Census Tract 160.01, New York, NY   \n",
       "\n",
       "      median_household_income  B19013001, Error  COUNTY  CTLabel    TRACT   \n",
       "2106                   1.3855           13124.0    85.0    40.03   4003.0  \\\n",
       "2137                   1.6250           11363.0    85.0   133.01  13301.0   \n",
       "2174                   2.8523           25827.0    85.0   207.02  20702.0   \n",
       "2101                   3.0188           14585.0    85.0    27.00   2700.0   \n",
       "1511                   1.7981           12283.0    81.0    87.00   8700.0   \n",
       "...                       ...               ...     ...      ...      ...   \n",
       "202                   25.0001               NaN    61.0    33.00   3300.0   \n",
       "112                   25.0001               NaN    61.0   150.02  15002.0   \n",
       "1288                  25.0001               NaN    61.0    99.01   9901.0   \n",
       "1306                  25.0001               NaN    61.0   114.01  11401.0   \n",
       "21                    25.0001               NaN    61.0   160.01  16001.0   \n",
       "\n",
       "          _merge  has_open_streets  prediction_logodds  prediction_odds   \n",
       "2106  right_only                 0           -3.926831         0.019706  \\\n",
       "2137  right_only                 0           -3.902871         0.020184   \n",
       "2174  right_only                 0           -3.780091         0.022821   \n",
       "2101  right_only                 0           -3.763434         0.023204   \n",
       "1511  right_only                 0           -3.689255         0.024991   \n",
       "...          ...               ...                 ...              ...   \n",
       "202         both                 1            0.449123         1.566938   \n",
       "112         both                 1            0.449123         1.566938   \n",
       "1288  right_only                 0            0.449123         1.566938   \n",
       "1306  right_only                 0            0.449123         1.566938   \n",
       "21          both                 1            0.449123         1.566938   \n",
       "\n",
       "      prediction_pct  \n",
       "2106        0.019325  \n",
       "2137        0.019785  \n",
       "2174        0.022311  \n",
       "2101        0.022678  \n",
       "1511        0.024381  \n",
       "...              ...  \n",
       "202         0.610431  \n",
       "112         0.610431  \n",
       "1288        0.610431  \n",
       "1306        0.610431  \n",
       "21          0.610431  \n",
       "\n",
       "[2196 rows x 13 columns]"
      ]
     },
     "execution_count": 13,
     "metadata": {},
     "output_type": "execute_result"
    }
   ],
   "source": [
    "df.sort_values(by='prediction_pct')"
   ]
  },
  {
   "cell_type": "code",
   "execution_count": 14,
   "metadata": {
    "tags": []
   },
   "outputs": [],
   "source": [
    "df.sort_values(by='prediction_pct').to_csv('prediction.csv')"
   ]
  },
  {
   "cell_type": "code",
   "execution_count": null,
   "metadata": {},
   "outputs": [],
   "source": []
  },
  {
   "cell_type": "code",
   "execution_count": null,
   "metadata": {},
   "outputs": [],
   "source": []
  },
  {
   "cell_type": "code",
   "execution_count": null,
   "metadata": {},
   "outputs": [],
   "source": []
  },
  {
   "cell_type": "markdown",
   "metadata": {},
   "source": [
    "## Exploratory Analysis\n",
    "\n",
    "_In the cells below, guide us through your exploratory data analysis. You may include charts and regressions as you see fit._\n",
    "\n",
    "\n",
    "_You may want to use [markdown formatting](https://www.markdownguide.org/cheat-sheet/) to help organize your thoguhts. You can make a separate `scratchpad.ipynb` to store analysis that you were trying out but isn't ultimately relevant to your pitch. You don't need to rewrite your pitch here, but please make sure to include enough text for Dhrumil and Aishi to be able to follow your logic._"
   ]
  },
  {
   "cell_type": "code",
   "execution_count": 15,
   "metadata": {},
   "outputs": [
    {
     "name": "stdout",
     "output_type": "stream",
     "text": [
      "\n",
      "Call:\n",
      "lm(formula = count ~ median_household_income, data = df)\n",
      "\n",
      "Residuals:\n",
      "    Min      1Q  Median      3Q     Max \n",
      "-1.1104 -0.2906 -0.1784 -0.0535 10.7733 \n",
      "\n",
      "Coefficients:\n",
      "                         Estimate Std. Error t value Pr(>|t|)    \n",
      "(Intercept)             -0.166776   0.042284  -3.944 8.26e-05 ***\n",
      "median_household_income  0.051086   0.004821  10.597  < 2e-16 ***\n",
      "---\n",
      "Signif. codes:  0 ‘***’ 0.001 ‘**’ 0.01 ‘*’ 0.05 ‘.’ 0.1 ‘ ’ 1\n",
      "\n",
      "Residual standard error: 0.8734 on 2194 degrees of freedom\n",
      "Multiple R-squared:  0.04869,\tAdjusted R-squared:  0.04826 \n",
      "F-statistic: 112.3 on 1 and 2194 DF,  p-value: < 2.2e-16\n",
      "\n"
     ]
    }
   ],
   "source": [
    "%%R -i df \n",
    "\n",
    "# runn a  regression\n",
    "\n",
    "model = lm(`count` ~ `median_household_income`, data = df)\n",
    "\n",
    "summary(model)"
   ]
  },
  {
   "cell_type": "code",
   "execution_count": 16,
   "metadata": {},
   "outputs": [
    {
     "data": {
      "text/plain": [
       "array([11, 10,  9,  8,  7,  6,  5,  4,  3,  2,  1,  0], dtype=int32)"
      ]
     },
     "execution_count": 16,
     "metadata": {},
     "output_type": "execute_result"
    }
   ],
   "source": [
    "df['count'].unique()"
   ]
  },
  {
   "cell_type": "code",
   "execution_count": 17,
   "metadata": {},
   "outputs": [
    {
     "name": "stdout",
     "output_type": "stream",
     "text": [
      "`stat_bin()` using `bins = 30`. Pick better value with `binwidth`.\n"
     ]
    },
    {
     "data": {
      "image/png": "[encoded data removed]"
     },
     "metadata": {},
     "output_type": "display_data"
    }
   ],
   "source": [
    "%%R -i df -w 2000\n",
    "ggplot(df, aes(x = `median_household_income`)) + geom_histogram() + facet_wrap(~count, scales='free_y')"
   ]
  },
  {
   "cell_type": "code",
   "execution_count": 18,
   "metadata": {},
   "outputs": [
    {
     "data": {
      "text/html": [
       "<div>\n",
       "<style scoped>\n",
       "    .dataframe tbody tr th:only-of-type {\n",
       "        vertical-align: middle;\n",
       "    }\n",
       "\n",
       "    .dataframe tbody tr th {\n",
       "        vertical-align: top;\n",
       "    }\n",
       "\n",
       "    .dataframe thead tr th {\n",
       "        text-align: left;\n",
       "    }\n",
       "\n",
       "    .dataframe thead tr:last-of-type th {\n",
       "        text-align: right;\n",
       "    }\n",
       "</style>\n",
       "<table border=\"1\" class=\"dataframe\">\n",
       "  <thead>\n",
       "    <tr>\n",
       "      <th></th>\n",
       "      <th>mean</th>\n",
       "      <th>median</th>\n",
       "    </tr>\n",
       "    <tr>\n",
       "      <th></th>\n",
       "      <th>median_household_income</th>\n",
       "      <th>median_household_income</th>\n",
       "    </tr>\n",
       "    <tr>\n",
       "      <th>count</th>\n",
       "      <th></th>\n",
       "      <th></th>\n",
       "    </tr>\n",
       "  </thead>\n",
       "  <tbody>\n",
       "    <tr>\n",
       "      <th>0</th>\n",
       "      <td>7.592247</td>\n",
       "      <td>7.20610</td>\n",
       "    </tr>\n",
       "    <tr>\n",
       "      <th>1</th>\n",
       "      <td>8.803052</td>\n",
       "      <td>7.76330</td>\n",
       "    </tr>\n",
       "    <tr>\n",
       "      <th>2</th>\n",
       "      <td>11.190853</td>\n",
       "      <td>10.76170</td>\n",
       "    </tr>\n",
       "    <tr>\n",
       "      <th>3</th>\n",
       "      <td>12.390335</td>\n",
       "      <td>12.11250</td>\n",
       "    </tr>\n",
       "    <tr>\n",
       "      <th>4</th>\n",
       "      <td>12.006710</td>\n",
       "      <td>11.48730</td>\n",
       "    </tr>\n",
       "    <tr>\n",
       "      <th>5</th>\n",
       "      <td>14.700467</td>\n",
       "      <td>14.84720</td>\n",
       "    </tr>\n",
       "    <tr>\n",
       "      <th>6</th>\n",
       "      <td>8.657000</td>\n",
       "      <td>7.39955</td>\n",
       "    </tr>\n",
       "    <tr>\n",
       "      <th>7</th>\n",
       "      <td>17.402800</td>\n",
       "      <td>17.40280</td>\n",
       "    </tr>\n",
       "    <tr>\n",
       "      <th>8</th>\n",
       "      <td>5.822600</td>\n",
       "      <td>5.82260</td>\n",
       "    </tr>\n",
       "    <tr>\n",
       "      <th>9</th>\n",
       "      <td>3.839500</td>\n",
       "      <td>3.83950</td>\n",
       "    </tr>\n",
       "    <tr>\n",
       "      <th>10</th>\n",
       "      <td>14.240900</td>\n",
       "      <td>14.24090</td>\n",
       "    </tr>\n",
       "    <tr>\n",
       "      <th>11</th>\n",
       "      <td>7.702700</td>\n",
       "      <td>7.70270</td>\n",
       "    </tr>\n",
       "  </tbody>\n",
       "</table>\n",
       "</div>"
      ],
      "text/plain": [
       "                         mean                  median\n",
       "      median_household_income median_household_income\n",
       "count                                                \n",
       "0                    7.592247                 7.20610\n",
       "1                    8.803052                 7.76330\n",
       "2                   11.190853                10.76170\n",
       "3                   12.390335                12.11250\n",
       "4                   12.006710                11.48730\n",
       "5                   14.700467                14.84720\n",
       "6                    8.657000                 7.39955\n",
       "7                   17.402800                17.40280\n",
       "8                    5.822600                 5.82260\n",
       "9                    3.839500                 3.83950\n",
       "10                  14.240900                14.24090\n",
       "11                   7.702700                 7.70270"
      ]
     },
     "execution_count": 18,
     "metadata": {},
     "output_type": "execute_result"
    }
   ],
   "source": [
    "df.pivot_table(index='count', values='median_household_income', aggfunc=['mean', 'median'])"
   ]
  },
  {
   "cell_type": "code",
   "execution_count": 19,
   "metadata": {},
   "outputs": [
    {
     "name": "stdout",
     "output_type": "stream",
     "text": [
      "\n",
      "\tWelch Two Sample t-test\n",
      "\n",
      "data:  no_open_streets$median_household_income and has_open_streets$median_household_income\n",
      "t = -7.4357, df = 246.56, p-value = 1.715e-12\n",
      "alternative hypothesis: true difference in means is not equal to 0\n",
      "95 percent confidence interval:\n",
      " -3.466752 -2.014765\n",
      "sample estimates:\n",
      "mean of x mean of y \n",
      " 7.592247 10.333006 \n",
      "\n"
     ]
    }
   ],
   "source": [
    "%%R\n",
    "\n",
    "no_open_streets <- df %>% filter(count==0)\n",
    "has_open_streets <- df %>% filter(count>=1)\n",
    "\n",
    "t.test(no_open_streets$median_household_income, has_open_streets$median_household_income)"
   ]
  },
  {
   "cell_type": "code",
   "execution_count": 20,
   "metadata": {},
   "outputs": [
    {
     "name": "stdout",
     "output_type": "stream",
     "text": [
      "`stat_bin()` using `bins = 30`. Pick better value with `binwidth`.\n"
     ]
    },
    {
     "data": {
      "image/png": "[encoded data removed]"
     },
     "metadata": {},
     "output_type": "display_data"
    }
   ],
   "source": [
    "%%R -w 1000\n",
    "\n",
    "df <- df %>% mutate(open_streets = ifelse(count==0, 'No Open Streets', 'Has Open Streets'))\n",
    "annotations <- df %>% group_by(open_streets) %>% summarise(\n",
    "    median = median(`median_household_income`),\n",
    "    mean = mean(`median_household_income`)\n",
    "    )\n",
    "\n",
    "ggplot(df) + \n",
    "    aes(x = `median_household_income`) +\n",
    "    geom_histogram() + \n",
    "    facet_wrap(~open_streets, scales='free_y') +\n",
    "    # plot median vertical line on each facet\n",
    "    geom_vline(data = annotations, aes(xintercept = median, color = open_streets), linetype = \"dashed\") +\n",
    "    # plot annotaitons as text on vertical line \n",
    "    geom_text(data = annotations, aes(x = mean, y = 0, color = open_streets, label = paste0(\"mean: $\", round(mean,2))), vjust = -15, hjust = 0, size = 8)\n",
    "    "
   ]
  },
  {
   "cell_type": "code",
   "execution_count": 21,
   "metadata": {},
   "outputs": [
    {
     "name": "stdout",
     "output_type": "stream",
     "text": [
      "\n",
      "\tWelch Two Sample t-test\n",
      "\n",
      "data:  median_household_income by open_streets\n",
      "t = 7.4357, df = 246.56, p-value = 1.715e-12\n",
      "alternative hypothesis: true difference in means between group Has Open Streets and group No Open Streets is not equal to 0\n",
      "95 percent confidence interval:\n",
      " 2.014765 3.466752\n",
      "sample estimates:\n",
      "mean in group Has Open Streets  mean in group No Open Streets \n",
      "                     10.333006                       7.592247 \n",
      "\n"
     ]
    }
   ],
   "source": [
    "%%R\n",
    "\n",
    "t.test(median_household_income ~ open_streets, data=df)"
   ]
  },
  {
   "cell_type": "code",
   "execution_count": 22,
   "metadata": {},
   "outputs": [
    {
     "name": "stdout",
     "output_type": "stream",
     "text": [
      "`geom_smooth()` using formula = 'y ~ x'\n"
     ]
    },
    {
     "data": {
      "image/png": "[encoded data removed]"
     },
     "metadata": {},
     "output_type": "display_data"
    }
   ],
   "source": [
    "%%R  \n",
    "\n",
    "# plot the data\n",
    "\n",
    "# label  the  dots  \n",
    "\n",
    "# ggplot(df, aes(x = `median_household_income`, y = `count`)) + geom_point() + geom_smooth(method = 'lm') + geom_text(aes(label = `tract`), vjust = -1, hjust = 1, size = 3)\n",
    "\n",
    "ggplot(df, aes(x = `median_household_income`, y = `count`)) + geom_point() + geom_smooth(method = 'lm')\n"
   ]
  },
  {
   "cell_type": "markdown",
   "metadata": {},
   "source": [
    "This is a regression model looking at the number of Open Streets in census tracts in relation to median household income. \n",
    "\n",
    "Looking at the adjusted R squared value, which is very close to to 0 - there does not seem to be a correlation between the two variables. \n"
   ]
  },
  {
   "cell_type": "code",
   "execution_count": 23,
   "metadata": {
    "tags": []
   },
   "outputs": [],
   "source": [
    "# save df to csv\n",
    "\n",
    "df.to_csv('edited_complaints.csv', index = False)"
   ]
  }
 ],
 "metadata": {
  "kernelspec": {
   "display_name": "Python 3 (ipykernel)",
   "language": "python",
   "name": "python3"
  },
  "language_info": {
   "codemirror_mode": {
    "name": "ipython",
    "version": 3
   },
   "file_extension": ".py",
   "mimetype": "text/x-python",
   "name": "python",
   "nbconvert_exporter": "python",
   "pygments_lexer": "ipython3",
   "version": "3.11.2"
  }
 },
 "nbformat": 4,
 "nbformat_minor": 4
}
